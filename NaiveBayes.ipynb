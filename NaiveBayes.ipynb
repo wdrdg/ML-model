{
  "nbformat": 4,
  "nbformat_minor": 0,
  "metadata": {
    "colab": {
      "name": "NB.ipynb",
      "provenance": [],
      "collapsed_sections": [],
      "toc_visible": true,
      "include_colab_link": true
    },
    "kernelspec": {
      "display_name": "Python 3",
      "name": "python3"
    }
  },
  "cells": [
    {
      "cell_type": "markdown",
      "metadata": {
        "id": "view-in-github",
        "colab_type": "text"
      },
      "source": [
        "<a href=\"https://colab.research.google.com/github/wdrdg/ML-model/blob/main/NaiveBayes.ipynb\" target=\"_parent\"><img src=\"https://colab.research.google.com/assets/colab-badge.svg\" alt=\"Open In Colab\"/></a>"
      ]
    },
    {
      "cell_type": "code",
      "metadata": {
        "colab": {
          "base_uri": "https://localhost:8080/"
        },
        "id": "urpamSHVQF4S",
        "outputId": "b038d3da-ebf0-4529-ded0-2067b8627e9c"
      },
      "source": [
        "from sklearn.datasets import fetch_20newsgroups\n",
        "from sklearn.feature_extraction.text import CountVectorizer\n",
        "from sklearn.feature_extraction.text import TfidfTransformer\n",
        "\n",
        "import scipy.sparse\n",
        "import string\n",
        "import numpy as np\n",
        "import pandas as pd\n",
        "import seaborn as sns\n",
        "import nltk\n",
        "nltk.download(\"stopwords\")\n",
        "from nltk.corpus import stopwords\n",
        "from sklearn.linear_model import LogisticRegression\n",
        "from sklearn.naive_bayes import GaussianNB\n",
        "from sklearn.naive_bayes import MultinomialNB\n",
        "from gensim.parsing import strip_tags, strip_numeric, strip_multiple_whitespaces, stem_text, strip_punctuation, remove_stopwords\n",
        "from gensim.parsing import preprocess_string\n",
        "from sklearn.naive_bayes import MultinomialNB\n",
        "np.random.seed(1234)\n",
        "import matplotlib.pyplot as plt\n",
        "from sklearn.linear_model import LinearRegression\n",
        "from sklearn.metrics import mean_squared_error, r2_score"
      ],
      "execution_count": null,
      "outputs": [
        {
          "output_type": "stream",
          "text": [
            "[nltk_data] Downloading package stopwords to /root/nltk_data...\n",
            "[nltk_data]   Package stopwords is already up-to-date!\n"
          ],
          "name": "stdout"
        }
      ]
    },
    {
      "cell_type": "markdown",
      "metadata": {
        "id": "CXspeepUMqW3"
      },
      "source": [
        "# Load 20news group dataset\n",
        "\n",
        "\n"
      ]
    },
    {
      "cell_type": "code",
      "metadata": {
        "colab": {
          "base_uri": "https://localhost:8080/",
          "height": 330
        },
        "id": "szDRhge-QjZm",
        "outputId": "a3643304-d4a3-4212-a3e4-707d3c2bb25a"
      },
      "source": [
        "twenty_train = fetch_20newsgroups(subset='train', remove=['headers', 'footers', 'quotes'], shuffle=True, random_state=42)\n",
        "twenty_test = fetch_20newsgroups(subset='test', remove=['headers', 'footers', 'quotes'], shuffle=True, random_state=42)\n",
        "twenty_train_x = twenty_train[\"data\"]\n",
        "twenty_train_y = twenty_train[\"target\"] \n",
        "twenty_test_x = twenty_test[\"data\"]\n",
        "twenty_test_y = twenty_test[\"target\"]\n",
        "df_twenty=pd.DataFrame()\n",
        "df_twenty['mess'] = twenty_train_x\n",
        "df_twenty['target']=twenty_train_y\n",
        "df_twenty['length']=df_twenty['mess'].apply(len)\n",
        "df_twenty_test = pd.DataFrame()\n",
        "df_twenty_test['message'] = twenty_test_x\n",
        "df_twenty_test['target'] = twenty_test_y\n",
        "#df_twenty.head()\n",
        "sns.barplot(x='target',y='length',data=df_twenty)"
      ],
      "execution_count": null,
      "outputs": [
        {
          "output_type": "stream",
          "text": [
            "Downloading 20news dataset. This may take a few minutes.\n",
            "Downloading dataset from https://ndownloader.figshare.com/files/5975967 (14 MB)\n"
          ],
          "name": "stderr"
        },
        {
          "output_type": "execute_result",
          "data": {
            "text/plain": [
              "<matplotlib.axes._subplots.AxesSubplot at 0x7f8ad87f6850>"
            ]
          },
          "metadata": {
            "tags": []
          },
          "execution_count": 7
        },
        {
          "output_type": "display_data",
          "data": {
            "image/png": "[encoded data removed]",
            "text/plain": [
              "<Figure size 432x288 with 1 Axes>"
            ]
          },
          "metadata": {
            "tags": [],
            "needs_background": "light"
          }
        }
      ]
    },
    {
      "cell_type": "code",
      "metadata": {
        "id": "81KIC4oFrSmI"
      },
      "source": [
        ""
      ],
      "execution_count": null,
      "outputs": []
    },
    {
      "cell_type": "markdown",
      "metadata": {
        "id": "YQAisPZEM7SD"
      },
      "source": [
        "# Load IMDB Reviews dataset"
      ]
    },
    {
      "cell_type": "code",
      "metadata": {
        "id": "SYVS7gi-osV3",
        "colab": {
          "base_uri": "https://localhost:8080/",
          "height": 1000
        },
        "outputId": "26b537b9-425d-45b6-f16f-f2de265c4cea"
      },
      "source": [
        "'''\n",
        "from google.colab import files\n",
        "uploaded = files.upload()\n",
        "'''\n"
      ],
      "execution_count": null,
      "outputs": [
        {
          "output_type": "execute_result",
          "data": {
            "application/vnd.google.colaboratory.intrinsic+json": {
              "type": "string"
            },
            "text/plain": [
              "'\\nfrom google.colab import files\\nuploaded = files.upload()\\n'"
            ]
          },
          "metadata": {
            "tags": []
          },
          "execution_count": 4
        }
      ]
    },
    {
      "cell_type": "code",
      "metadata": {
        "id": "9zcC_JuNfUcH",
        "colab": {
          "base_uri": "https://localhost:8080/"
        },
        "outputId": "48fe9d3f-1f1d-49da-bd98-4f6f2833ff95"
      },
      "source": [
        "from google.colab import drive\n",
        "drive.mount('/content/drive')"
      ],
      "execution_count": null,
      "outputs": [
        {
          "output_type": "stream",
          "text": [
            "Mounted at /content/drive\n"
          ],
          "name": "stdout"
        }
      ]
    },
    {
      "cell_type": "code",
      "metadata": {
        "id": "UrcG1dbYrKuf"
      },
      "source": [
        "import io\n",
        "'''\n",
        "imdb_train_x = pd.read_csv(io.BytesIO(uploaded['train.csv']))['review']\n",
        "imdb_train_y = pd.read_csv(io.BytesIO(uploaded['train.csv']))['label']\n",
        "imdb_test_x = pd.read_csv(io.BytesIO(uploaded['test.csv']))['review']\n",
        "imdb_test_y = pd.read_csv(io.BytesIO(uploaded['test.csv']))['label']\n",
        "'''\n",
        "\n",
        "\n",
        "#how to use: upload train.csv and test.csv to Google Drive -> mount drive -> run this code snippet\n",
        "imdb_train_x = pd.read_csv('/content/drive/MyDrive/train.csv')['review']\n",
        "imdb_train_y = pd.read_csv('/content/drive/MyDrive/train.csv')['label']\n",
        "imdb_train_rate = pd.read_csv('/content/drive/MyDrive/train.csv')['rating']\n",
        "imdb_test_x = pd.read_csv('/content/drive/MyDrive/test.csv')['review']\n",
        "imdb_test_y = pd.read_csv('/content/drive/MyDrive/test.csv')['label']\n",
        "imdb_test_rate = pd.read_csv('/content/drive/MyDrive/test.csv')['rating']\n",
        "\n",
        "df_imdb=pd.DataFrame()\n",
        "df_imdb['mess'] = imdb_train_x\n",
        "df_imdb['target']=imdb_train_y\n",
        "df_imdb['rating']=imdb_train_rate\n",
        "# print(df_imdb['mess'])"
      ],
      "execution_count": null,
      "outputs": []
    },
    {
      "cell_type": "markdown",
      "metadata": {
        "id": "_RbuXd__dTYE"
      },
      "source": [
        "# Use logistic regression on text before cleaning"
      ]
    },
    {
      "cell_type": "code",
      "metadata": {
        "id": "-WFUo5Wnupyx"
      },
      "source": [
        ""
      ],
      "execution_count": null,
      "outputs": []
    },
    {
      "cell_type": "code",
      "metadata": {
        "id": "oQ0ZoD65dTyf"
      },
      "source": [
        "lg = LogisticRegression()\n",
        "print(kfoldCV(i m))"
      ],
      "execution_count": null,
      "outputs": []
    },
    {
      "cell_type": "markdown",
      "metadata": {
        "id": "uAltOzWOZqeK"
      },
      "source": [
        "# Defining the text cleaning functions"
      ]
    },
    {
      "cell_type": "code",
      "metadata": {
        "id": "E3ntqLqbZqR4"
      },
      "source": [
        "import re\n",
        "'''\n",
        "def cleanhtml(raw_html):\n",
        "  cleanr = re.compile('<.*?>')\n",
        "  cleantext = re.sub(cleanr, '', raw_html)\n",
        "  return cleantext\n",
        "\n",
        "def text_process(mess):\n",
        "    no_punc=[c for c in mess if c not in string.punctuation]\n",
        "    no_punc=''.join(no_punc)\n",
        "    no_html = cleanhtml(no_punc)\n",
        "    cleaned_mess=[word for word in no_html.split() if word.lower() not in stopwords.words('english')]\n",
        "    cleaned_mess = ' '.join(cleaned_mess)\n",
        "    return cleaned_mess\n",
        "'''\n",
        "transform_to_lower = lambda s: s.lower()\n",
        "\n",
        "remove_single_char = lambda s: re.sub(r'\\s+\\w{1}\\s+', '', s)\n",
        "\n",
        "# Filters to be executed in pipeline\n",
        "CLEAN_FILTERS = [strip_tags,\n",
        "                strip_numeric,\n",
        "                strip_punctuation, \n",
        "                strip_multiple_whitespaces, \n",
        "                transform_to_lower,\n",
        "                remove_stopwords,\n",
        "                remove_single_char]\n",
        "          \n",
        "def cleaning_pipe(document):\n",
        "    # Invoking gensim.parsing.preprocess_string method with set of filters\n",
        "    processed_words = preprocess_string(document, CLEAN_FILTERS)\n",
        "    processed_words = ' '.join(processed_words)\n",
        "    return processed_words"
      ],
      "execution_count": null,
      "outputs": []
    },
    {
      "cell_type": "markdown",
      "metadata": {
        "id": "zJw3_GRt03FT"
      },
      "source": [
        "#Cleaning the data"
      ]
    },
    {
      "cell_type": "code",
      "metadata": {
        "id": "8QMZH5aogyY-"
      },
      "source": [
        "\n",
        "df_twenty['message']=df_twenty['mess'].apply(cleaning_pipe)\n",
        "df_twenty.drop('mess',axis=1,inplace=True)\n"
      ],
      "execution_count": null,
      "outputs": []
    },
    {
      "cell_type": "code",
      "metadata": {
        "id": "5dPUiRsngyMA"
      },
      "source": [
        "\n",
        "df_imdb['message']=df_imdb['mess'].apply(cleaning_pipe)\n",
        "df_imdb.drop('mess',axis=1,inplace=True)\n"
      ],
      "execution_count": null,
      "outputs": []
    },
    {
      "cell_type": "markdown",
      "metadata": {
        "id": "a6rA9I9SgOnI"
      },
      "source": [
        "#Evaluation Function"
      ]
    },
    {
      "cell_type": "code",
      "metadata": {
        "id": "8s_iYtX2Eu5_"
      },
      "source": [
        "def evaluate_acc(true_labels, target_labels):\n",
        "  return np.sum(true_labels == target_labels)/true_labels.shape[0]\n",
        "def logsumexp(Z):                                                # dimension C x N\n",
        "  Zmax = np.max(Z,axis=0)[None,:]                              # max over C\n",
        "  log_sum_exp = Zmax + np.log(np.sum(np.exp(Z - Zmax), axis=0))\n",
        "  return log_sum_exp"
      ],
      "execution_count": null,
      "outputs": []
    },
    {
      "cell_type": "markdown",
      "metadata": {
        "id": "zxhyfdHnOghh"
      },
      "source": [
        "# Gaussian Naive Bayes"
      ]
    },
    {
      "cell_type": "code",
      "metadata": {
        "id": "nWeeJfDUOgUr"
      },
      "source": [
        "class NaiveBayes():\n",
        "  def __init__(self, k):\n",
        "    self.k=k\n",
        "\n",
        "    \n",
        "  def fit(self, x, y):\n",
        "    N, D = x.shape\n",
        "    C = np.max(y) + 1\n",
        "    # one parameter for each feature conditioned on each class\n",
        "    mu, sigma = np.zeros((C,D)), np.zeros((C,D))\n",
        "    Nc = np.zeros(C) # number of instances in class c\n",
        "    # for each class get the MLE for the mean and std\n",
        "    for c in range(C):\n",
        "        x_c = x[y == c]                           #slice all the elements from class c\n",
        "        Nc[c] = x_c.shape[0]                      #get number of elements of class c\n",
        "\n",
        "        #print(x_c.shape)  #for testing only, remove later=================\n",
        "\n",
        "        mu[c,:] = np.mean(x_c,0)                  #mean of features of class c\n",
        "        #print(sigma.shape)\n",
        "        sigma[c,:] = np.std(x_c, 0) + (1e-9)*np.var(x, axis=0).max()    # add small value epsilon for zero\n",
        "        # print(sigma.shape)\n",
        "        # print(mu.shape)\n",
        "    self.mu = mu                                  # C x D\n",
        "    self.sigma = sigma                            # C x D\n",
        "    self.pi = (Nc+self.k)/(N+C*self.k)                        #Laplace smoothing (using alpha_c=1 for all c) you can derive using Dirichlet's distribution\n",
        "    return self\n",
        "  \n",
        "\n",
        "\n",
        "  def predict(self, xt):\n",
        "    Nt, D = xt.shape\n",
        "    # for numerical stability we work in the log domain\n",
        "    # we add a dimension because this is added to the log-likelihood matrix \n",
        "    # that assigns a likelihood for each class (C) to each test point, and so it is C x N\n",
        "    batches = []\n",
        "    for batch in np.array_split(xt, 20):\n",
        "      log_prior = np.log(self.pi)[:, None]\n",
        "      # logarithm of the likelihood term for Gaussian \n",
        "      # the first two terms are the logarithm of the normalization term in the Gaussian and the final term is the exponent in the Gaussian. \n",
        "      # Notice that we are adding dimensions (using None) to model parameters and data to make this evaluation. \n",
        "      # The reason is that sigma and mu are C x D, while the data x is N x D. We operate on a C x N x D shape by increasing the number of dimensions when needed\n",
        "      log_likelihood = -.5 * np.log(2*np.pi) - np.log(self.sigma[:,None,:]) -.5 * (((batch[None,:,:] - self.mu[:,None,:])/self.sigma[:,None,:])**2)\n",
        "      log_likelihood = np.sum(log_likelihood, axis=2)\n",
        "      # posterior calculation\n",
        "      log_posterior = log_prior + log_likelihood\n",
        "      posterior = np.exp(log_posterior - logsumexp(log_posterior))\n",
        "      y_pred = np.argmax(posterior.T, 1)\n",
        "      \n",
        "      batches = batches + y_pred.tolist()\n",
        "      # print(batches)\n",
        "    return np.asarray(batches)\n"
      ],
      "execution_count": null,
      "outputs": []
    },
    {
      "cell_type": "markdown",
      "metadata": {
        "id": "e3rMay473CSG"
      },
      "source": [
        "# K-fold cross validation"
      ]
    },
    {
      "cell_type": "code",
      "metadata": {
        "id": "fNuEprsZI_3d"
      },
      "source": [
        "def cross_validation_split(x, split=5):  # this function returns indices\n",
        "    lst = list(range(len(x)))\n",
        "    np.random.shuffle(lst)\n",
        "    folds = np.array_split(lst, split)\n",
        "    for i in range(split):\n",
        "      train_idx = np.concatenate(*[folds[:i] + folds[i+1:]]) #np.concatenate(*[folds[:i] + folds[i+1:]])\n",
        "      vali = folds[i]\n",
        "      yield train_idx.flatten(), vali\n",
        "\n",
        "\n",
        "def kfoldCV(x, y, model, toArray=False): # input raw data without tf-idf, in this pj, the input x is  the df[\"message\"]\n",
        "    records = []\n",
        "    for train_index, vali_index in cross_validation_split(x):\n",
        "        y_train = np.array( [y[i] for i in train_index])\n",
        "        x_train= np.array([x[i] for i in train_index])\n",
        "        y_vali = np.array(y[vali_index])\n",
        "        x_vali = np.array([x [i] for i in vali_index])\n",
        "        \n",
        "        count_vect = CountVectorizer(min_df=5, max_df=0.7)\n",
        "        train_counts = count_vect.fit_transform(x_train)\n",
        "        vali_counts = count_vect.transform(x_vali)\n",
        "        # \"\"\"using tf-idf to form frequncy\"\"\"\n",
        "        tfidf_transformer = TfidfTransformer()\n",
        "        train_tfidf = tfidf_transformer.fit_transform(train_counts) \n",
        "        vali_tfidf = tfidf_transformer.transform(vali_counts)\n",
        "        if(toArray):\n",
        "          train_tfidf= train_tfidf.toarray()\n",
        "          vali_tfidf = vali_tfidf.toarray()\n",
        "        #above process the plain text data to tfidf (should use the same veotrizer for the same set of train and vali)\n",
        "\n",
        "        trained_model = model.fit(train_tfidf, y_train)\n",
        "        accuracy = evaluate_acc(trained_model.predict(vali_tfidf), y_vali)\n",
        "        records.append(accuracy)\n",
        "    return sum(records) / len(records)"
      ],
      "execution_count": null,
      "outputs": []
    },
    {
      "cell_type": "markdown",
      "metadata": {
        "id": "DjfdtCJlYrlF"
      },
      "source": [
        "# Finding the best hyperparameter value for naive bayes"
      ]
    },
    {
      "cell_type": "code",
      "metadata": {
        "id": "j4QIse-rY519"
      },
      "source": [
        "############ Our own Gaussian Naive Bayes experiments\n",
        "\n",
        "#For the twenty news group dataset\n",
        "twenty_accuracies_NB=[]\n",
        "for k in range(1,10):\n",
        "  nb = MultinomialNB(k)\n",
        "  twenty_accuracies_NB.append(kfoldCV(df_twenty['message'],twenty_train_y,nb))\n",
        "plt.xticks(range(1,10,1))\n",
        "plt.title(\"Accuracy using different hyperparameter value for smoothing, in naive bayes, for twenty dataset\")\n",
        "plt.plot( range(1,10),twenty_accuracies_NB, '-', label=\"Accuracies\")\n",
        "plt.legend()\n",
        "plt.show()\n",
        "print(f\"largest accuracy when K = {twenty_accuracies_NB.index(max(twenty_accuracies_NB))+1}, the accuracy is {max(twenty_accuracies_NB)*100:.1f}\\n\")\n",
        "\n"
      ],
      "execution_count": null,
      "outputs": []
    },
    {
      "cell_type": "code",
      "metadata": {
        "colab": {
          "base_uri": "https://localhost:8080/",
          "height": 315
        },
        "id": "ykeE-sGplkpI",
        "outputId": "16eaf8c1-e9c1-4054-9840-a2bb674657b0"
      },
      "source": [
        "#For the IMDB reviews dataset\n",
        "imdb_accuracies_NB=[]\n",
        "for k in range(1,10):\n",
        "  nb = NaiveBayes(k)\n",
        "  imdb_accuracies_NB.append(kfoldCV(df_imdb['message'],imdb_train_y,nb,k))\n",
        "plt.xticks(range(1,10,1))\n",
        "plt.title(\"Accuracy using different hyperparameter value for smoothing, in naive bayes, for IMDB dataset\")\n",
        "plt.plot( range(1,10),imdb_accuracies_NB, '-', label=\"Accuracies\")\n",
        "plt.legend()\n",
        "plt.show()\n",
        "print(f\"largest accuracy when K = {imdb_accuracies_NB.index(max(imdb_accuracies_NB))+1}, the accuracy is {max(imdb_accuracies_NB)*100:.1f}\\n\")"
      ],
      "execution_count": null,
      "outputs": [
        {
          "output_type": "display_data",
          "data": {
            "image/png": "[encoded data removed]",
            "text/plain": [
              "<Figure size 432x288 with 1 Axes>"
            ]
          },
          "metadata": {
            "tags": [],
            "needs_background": "light"
          }
        },
        {
          "output_type": "stream",
          "text": [
            "largest accuracy when K = 3, the accuracy is 70.2\n",
            "\n"
          ],
          "name": "stdout"
        }
      ]
    },
    {
      "cell_type": "code",
      "metadata": {
        "id": "6a_SJrIXUy9B"
      },
      "source": [
        "############ SKLearn Gaussian Naive Bayes experiments\n",
        "\n",
        "#For the twenty news group dataset\n",
        "'''\n",
        "gnb = GaussianNB()\n",
        "gnb.fit(twenty_train_sets[0].toarray(), twenty_train_target_sets[0])\n",
        "print(gnb.class_prior_)\n",
        "\n",
        "#For the IMDB reviews dataset\n",
        "gnb = GaussianNB()\n",
        "gnb.fit(imdb_train_sets[0].toarray(), imdb_train_target_sets[0])\n",
        "print(gnb.class_prior_)\n",
        "'''"
      ],
      "execution_count": null,
      "outputs": []
    },
    {
      "cell_type": "code",
      "metadata": {
        "id": "sEDz4sbOBz-L"
      },
      "source": [
        "'''\n",
        "print(twenty_accuracies_NB)\n",
        "'''"
      ],
      "execution_count": null,
      "outputs": []
    },
    {
      "cell_type": "markdown",
      "metadata": {
        "id": "tXspMTt10o85"
      },
      "source": [
        "# Logistic Regression Hyper parameter tuning 20News"
      ]
    },
    {
      "cell_type": "code",
      "metadata": {
        "id": "K_hGI8FsAqQF"
      },
      "source": [
        "\n",
        "twenty_accuracies_LG_newton=[]\n",
        "twenty_accuracies_LG_liblinear=[]\n",
        "solvers = ['newton-cg', 'lbfgs', 'liblinear']\n",
        "c_values = [100, 10, 1.0, 0.1, 0.01]\n",
        "\n",
        "\n",
        "# newtwon-cg\n",
        "for c in c_values:\n",
        "  nb = LogisticRegression(solver=solvers[0], C=c)\n",
        "  twenty_accuracies_LG_newton.append(kfoldCV(df_twenty['message'],twenty_train_y,nb))\n",
        "\n",
        "print(f\"largest accuracy when c = {c_values[twenty_accuracies_LG_newton.index(max(twenty_accuracies_LG_newton))]}, the accuracy is {max(twenty_accuracies_LG_newton)*100:.1f}\\n\")\n",
        "\n",
        "\n",
        "for c in c_values:\n",
        "  nb = LogisticRegression(solver=solvers[2], C=c)\n",
        "  twenty_accuracies_LG_liblinear.append(kfoldCV(df_twenty['message'],twenty_train_y,nb))\n",
        "\n",
        "print(f\"largest accuracy when c = {c_values[twenty_accuracies_LG_liblinear.index(max(twenty_accuracies_LG_liblinear))]}, the accuracy is {max(twenty_accuracies_LG_liblinear)*100:.1f}\\n\")\n"
      ],
      "execution_count": null,
      "outputs": []
    },
    {
      "cell_type": "code",
      "metadata": {
        "colab": {
          "base_uri": "https://localhost:8080/"
        },
        "id": "LVS1UVxj2QFC",
        "outputId": "5234a318-79d9-40c2-d2f8-f3e30e3e3567"
      },
      "source": [
        "print(twenty_accuracies_LG_newton)"
      ],
      "execution_count": null,
      "outputs": [
        {
          "output_type": "stream",
          "text": [
            "[0.707884692549541, 0.7092984321259268, 0.7149555002572814, 0.7172533740607856, 0.6562657724130899, 0.4677365827776481]\n"
          ],
          "name": "stdout"
        }
      ]
    },
    {
      "cell_type": "markdown",
      "metadata": {
        "id": "UHku06BE03y3"
      },
      "source": [
        "# Logistic regression hyperparameter tuning for IMDB dataset"
      ]
    },
    {
      "cell_type": "code",
      "metadata": {
        "id": "6ppRXLB-1Tsn"
      },
      "source": [
        "imdb_accuracies_LG_newton=[]\n",
        "imdb_accuracies_LG_lbfgs=[]\n",
        "imdb_accuracies_LG_liblinear=[]\n",
        "solvers = ['newton-cg', 'lbfgs', 'liblinear']\n",
        "c_values = [100, 10, 1.0, 0.1, 0.01]\n",
        "\n",
        "nb = LogisticRegression(solver=solvers[0], C=c)\n",
        "imdb_accuracies_LG_newton.append(kfoldCV(df_imdb['message'],imdb_train_y,nb))\n",
        "\n",
        "# newtwon-cg\n",
        "for c in c_values:\n",
        "  nb = LogisticRegression(solver=solvers[0], C=c)\n",
        "  imdb_accuracies_LG_newton.append(kfoldCV(df_imdb['message'],imdb_train_y,nb))\n",
        "\n",
        "print(f\"largest accuracy when c = {imdb_accuracies_LG_newton.index(max(imdb_accuracies_LG_newton))+1}, the accuracy is {max(imdb_accuracies_LG_newton)*100:.1f}\\n\")\n",
        "\n",
        "for c in c_values:\n",
        "  nb = LogisticRegression(solver=solvers[2], C=c)\n",
        "  imdb_accuracies_LG_liblinear.append(kfoldCV(df_imdb['message'],imdb_train_y,nb))\n",
        "\n",
        "print(f\"largest accuracy when c = {imdb_accuracies_LG_liblinear.index(max(imdb_accuracies_LG_liblinear))+1}, the accuracy is {max(imdb_accuracies_LG_liblinear)*100:.1f}\\n\")"
      ],
      "execution_count": null,
      "outputs": []
    },
    {
      "cell_type": "code",
      "metadata": {
        "id": "yzde_3DYEJi4"
      },
      "source": [
        "'''\n",
        "imdb_accuracies_LR=[]\n",
        "\n",
        "\n",
        "nb = LogisticRegression(penalty='l2')\n",
        "imdb_accuracies_LR.append(kfoldCV(df_imdb['message'],imdb_train_y,nb))\n",
        "print(imdb_accuracies_LR)\n",
        "'''"
      ],
      "execution_count": null,
      "outputs": []
    },
    {
      "cell_type": "markdown",
      "metadata": {
        "id": "bz0IENolvBfY"
      },
      "source": [
        "# Splitting to different size\n"
      ]
    },
    {
      "cell_type": "code",
      "metadata": {
        "id": "tlpeXcSETCXL"
      },
      "source": [
        "#twenty review dataset\n",
        "twenty_train_sets = []   # 100%, 80%, 60%, 40%, 20%\n",
        "twenty_test_sets = []   # use the same count vectorizer as corresponding train set\n",
        "\n",
        "twenty_train_sets_raw = []   # raw data for running K-fold CV later. In case not needed, please remove (Jeff 0228 19:18 wrote)\n",
        "\n",
        "twenty_train_target_sets = []\n",
        "for i in range(5):\n",
        "    twenty_idx = np.random.permutation(len(df_twenty['message']))\n",
        "    idx_to_select = twenty_idx[:int(len(twenty_idx)/(i+1))+1]\n",
        "    train_target = df_twenty['target'][idx_to_select]\n",
        "    twenty_train_target_sets.append(train_target)\n",
        "  \n",
        "    # twenty_train_sets_raw.append(df_twenty['message'][idx_to_select])     #Here as well (Jeff 0228)\n",
        "\n",
        "    count_vect = CountVectorizer(min_df=5, max_df=0.7)\n",
        "    twenty_train_counts = count_vect.fit_transform(df_twenty['message'][idx_to_select])\n",
        "    tfidf_transformer = TfidfTransformer()\n",
        "    twenty_train_tfidf = tfidf_transformer.fit_transform(twenty_train_counts)\n",
        "    twenty_train_tfidf = twenty_train_tfidf.toarray()   # to array by RS\n",
        "    twenty_test_counts = count_vect.transform(twenty_test_x)\n",
        "    twenty_test_tfidf = tfidf_transformer.transform(twenty_test_counts)\n",
        "    twenty_test_tfidf = twenty_test_tfidf.toarray()     # to array by RS \n",
        "    twenty_train_sets.append(twenty_train_tfidf)\n",
        "    twenty_test_sets.append(twenty_test_tfidf)\n",
        "\n",
        "  \n",
        "\n",
        "\n",
        "# twenty_train_target_sets = np.array(twenty_train_target_sets)\n",
        "# twenty_test_sets = np.array(twenty_test_sets)\n",
        "# twenty_train_sets = np.array(twenty_train_sets)"
      ],
      "execution_count": null,
      "outputs": []
    },
    {
      "cell_type": "code",
      "metadata": {
        "id": "zC2oV6K08urA"
      },
      "source": [
        "#imdb review dataset\n",
        "imdb_train_sets = []   # 100%, 80%, 60%, 40%, 20%\n",
        "imdb_test_sets = []   # use the same count vectorizer as corresponding train set\n",
        "imdb_train_target_sets = []\n",
        "for i in range(5):\n",
        "    imdb_idx = np.random.permutation(len(df_imdb['message']))\n",
        "    idx_to_select = imdb_idx[:int(len(imdb_idx)/(i+1))+1]\n",
        "    train_target = df_imdb['target'][idx_to_select]\n",
        "    imdb_train_target_sets.append(train_target)\n",
        "\n",
        "    count_vect = CountVectorizer(min_df=5, max_df=0.7)\n",
        "    imdb_train_counts = count_vect.fit_transform(df_imdb['message'][idx_to_select])\n",
        "    imdb_test_counts = count_vect.transform(imdb_test_x)\n",
        "    tfidf_transformer = TfidfTransformer()\n",
        "    imdb_train_tfidf = tfidf_transformer.fit_transform(imdb_train_counts)\n",
        "    imdb_train_tfidf = imdb_train_tfidf.toarray()\n",
        "    imdb_test_tfidf = tfidf_transformer.transform(imdb_test_counts)\n",
        "    imdb_test_tfidf = imdb_test_tfidf.toarray()\n",
        "    imdb_train_sets.append(imdb_train_tfidf)\n",
        "    imdb_test_sets.append(imdb_test_tfidf)\n",
        "    \n",
        "# imdb_train_target_sets = np.array(imdb_train_target_sets)\n",
        "# imdb_test_sets = np.array(imdb_test_sets)\n",
        "# imdb_train_sets = np.array(imdb_train_sets)"
      ],
      "execution_count": null,
      "outputs": []
    },
    {
      "cell_type": "markdown",
      "metadata": {
        "id": "8CK-vvKH_2PE"
      },
      "source": [
        "# Comparing different size of training data"
      ]
    },
    {
      "cell_type": "code",
      "metadata": {
        "colab": {
          "base_uri": "https://localhost:8080/",
          "height": 333
        },
        "id": "iaoOjlBqWwNR",
        "outputId": "2d22b4d9-4fd7-47f8-c040-1a7f69f4c7ec"
      },
      "source": [
        "#Different sizes of data with naive bayes, using twenty dataset\n",
        "nb_accs_twenty = []\n",
        "\n",
        "for i in range(5):\n",
        "  nb=MultinomialNB(1)\n",
        "  result_nb = nb.fit(twenty_train_sets[i], twenty_train_target_sets[i]).predict(twenty_test_sets[i])\n",
        "  nb_accs_twenty.append(evaluate_acc(result_nb, twenty_test_y))\n",
        "\n",
        "plt.xticks([20,40,60,80,100])\n",
        "plt.title(\"Accuracy using different sizes of data, in naive bayes, for twenty dataset\")\n",
        "plt.plot([20,40,60,80,100],nb_accs_twenty, '-', label=\"Accuracies\")\n",
        "plt.legend()\n",
        "plt.show()\n",
        "print(f\"largest accuracy when data size(%) = {20*(nb_accs_twenty.index(max(nb_accs_twenty))+1)}, the accuracy is {max(nb_accs_twenty)*100:.1f}\\n\")\n",
        "print(nb_accs_twenty[-1])\n",
        "\n",
        "\n",
        "\n",
        "\n"
      ],
      "execution_count": null,
      "outputs": [
        {
          "output_type": "display_data",
          "data": {
            "image/png": "[encoded data removed]",
            "text/plain": [
              "<Figure size 432x288 with 1 Axes>"
            ]
          },
          "metadata": {
            "tags": [],
            "needs_background": "light"
          }
        },
        {
          "output_type": "stream",
          "text": [
            "largest accuracy when data size(%) = 20, the accuracy is 67.3\n",
            "\n",
            "0.5594795539033457\n"
          ],
          "name": "stdout"
        }
      ]
    },
    {
      "cell_type": "code",
      "metadata": {
        "id": "7NoDesHo8xtg"
      },
      "source": [
        "#Different sizes of data with naive bayes, using imdb dataset\n",
        "nb_accs_imdb = []\n",
        "for i in range(5):\n",
        "  nb=NaiveBayes(k=3)\n",
        "  result_nb = nb.fit(imdb_train_sets[i], imdb_train_target_sets[i]).predict(imdb_test_sets[i])\n",
        "  nb_accs_imdb.append(evaluate_acc(result_nb, imdb_test_y))\n",
        "\n",
        "plt.xticks([20,40,60,80,100])\n",
        "plt.title(\"Accuracy using different sizes of data, in naive bayes, for imdb dataset\")\n",
        "plt.plot( [20,40,60,80,100],nb_accs_imdb, '-', label=\"Accuracies\")\n",
        "plt.legend()\n",
        "plt.show()\n",
        "print(f\"largest accuracy when data size(%) = {20*(nb_accs_imdb.index(max(nb_accs_imdb))+1)}, the accuracy is {max(nb_accs_imdb)*100:.1f}\\n\")"
      ],
      "execution_count": null,
      "outputs": []
    },
    {
      "cell_type": "code",
      "metadata": {
        "id": "q4PQoA52H2i5",
        "colab": {
          "base_uri": "https://localhost:8080/",
          "height": 333
        },
        "outputId": "89be547a-15ed-423c-9ce7-c3d808135fff"
      },
      "source": [
        "lg_accs_twenty = []\n",
        "for i in range(5):\n",
        "  lg=LogisticRegression(solver='newton-cg', C=10)\n",
        "  result_nb = lg.fit(twenty_train_sets[i], twenty_train_target_sets[i]).predict(twenty_test_sets[i])\n",
        "  lg_accs_twenty.append(evaluate_acc(result_nb, twenty_test_y))\n",
        "\n",
        "plt.xticks([20,40,60,80,100])\n",
        "plt.title(\"Accuracy using different sizes of data, in naive bayes, for imdb dataset\")\n",
        "plt.plot( [20,40,60,80,100],lg_accs_twenty, '-', label=\"Accuracies\")\n",
        "plt.legend()\n",
        "plt.show()\n",
        "print(f\"largest accuracy when data size(%) = {20*(lg_accs_twenty.index(max(lg_accs_twenty))+1)}, the accuracy is {max(lg_accs_twenty)*100:.1f}\\n\")\n",
        "print(lg_accs_twenty[-1])"
      ],
      "execution_count": null,
      "outputs": [
        {
          "output_type": "display_data",
          "data": {
            "image/png": "[encoded data removed]",
            "text/plain": [
              "<Figure size 432x288 with 1 Axes>"
            ]
          },
          "metadata": {
            "tags": [],
            "needs_background": "light"
          }
        },
        {
          "output_type": "stream",
          "text": [
            "largest accuracy when data size(%) = 20, the accuracy is 66.6\n",
            "\n",
            "0.5674455655868296\n"
          ],
          "name": "stdout"
        }
      ]
    },
    {
      "cell_type": "code",
      "metadata": {
        "id": "lZFVvdfOH3OL"
      },
      "source": [
        "lg_accs_imdb = []\n",
        "for i in range(5):\n",
        "  lg=LogisticRegression(solver='liblinear', C=10)\n",
        "  result_nb = lg.fit(imdb_train_sets[i], imdb_train_target_sets[i]).predict(imdb_test_sets[i])\n",
        "  lg_accs_imdb.append(evaluate_acc(result_nb, imdb_test_y))\n",
        "\n",
        "plt.xticks([20,40,60,80,100])\n",
        "plt.title(\"Accuracy using different sizes of data, in naive bayes, for imdb dataset\")\n",
        "plt.plot( [20,40,60,80,100],lg_accs_imdb, '-', label=\"Accuracies\")\n",
        "plt.legend()\n",
        "plt.show()\n",
        "print(f\"largest accuracy when data size(%) = {20*(lg_accs_imdb.index(max(lg_accs_imdb))+1)}, the accuracy is {max(lg_accs_imdb)*100:.1f}\\n\")"
      ],
      "execution_count": null,
      "outputs": []
    },
    {
      "cell_type": "code",
      "metadata": {
        "id": "5EPo3sCARvkB"
      },
      "source": [
        ""
      ],
      "execution_count": null,
      "outputs": []
    },
    {
      "cell_type": "code",
      "metadata": {
        "id": "V0XOw3OV_75L"
      },
      "source": [
        "'''\n",
        "nb_accs_twenty = []\n",
        "lr_accs_twenty = []\n",
        "nb_accs_imdb = []\n",
        "lr_accs_imdb = []\n",
        "BestNaiveBayes = MultinomialNB(alpha=1)\n",
        "BestLogisticReg = LogisticRegression()\n",
        "for i in range(5):\n",
        "  result_nb = BestNaiveBayes.fit(twenty_train_sets[i], twenty_train_target_sets[i]).predict(twenty_test_sets[i])\n",
        "  nb_accs_twenty.append(evaluate_acc(result_nb, twenty_test_y))\n",
        "  \n",
        "print(nb_accs_twenty)\n",
        "for j in range(5):\n",
        "  nb_accs_imdb.append(evaluate_acc(BestNaiveBayes.fit(imdb_train_sets[j], imdb_train_target_sets[j]).predict(imdb_test_sets[j]), imdb_test_y))\n",
        "  lr_accs_imdb.append(evaluate_acc(BestLogisticReg.fit(imdb_train_sets[j], imdb_train_target_sets[j]).predict(imdb_test_sets[j]), imdb_test_y))\n",
        "'''"
      ],
      "execution_count": null,
      "outputs": []
    },
    {
      "cell_type": "code",
      "metadata": {
        "id": "uwTJj6GRhiUP"
      },
      "source": [
        "'''\n",
        "for j in range(5):\n",
        "  nb_accs_twenty.append(evaluate_acc(BestNaiveBayes.fit(twenty_train_sets[j], twenty_train_target_sets[j]).predict(twenty_test_sets[j]), twenty_test_y)\n",
        "  nb_imdb_twenty.append(evaluate_acc(BestLogisticReg.fit(imdb_train_sets[j], twenty_train_target_sets[j]).predict(twenty_test_sets[j]), twenty_test_y)\n",
        "'''"
      ],
      "execution_count": null,
      "outputs": []
    },
    {
      "cell_type": "markdown",
      "metadata": {
        "id": "ee5J2bRqn_ih"
      },
      "source": [
        "#Linear Regression on IMDB Dataset\n"
      ]
    },
    {
      "cell_type": "code",
      "metadata": {
        "id": "YcZA_cjdFlBL"
      },
      "source": [
        "count_vect = CountVectorizer(min_df=5, max_df=0.7)\n",
        "imdb_train_x = count_vect.fit_transform(df_imdb['message'])\n",
        "imdb_test_x = count_vect.transform(imdb_test_x)\n",
        "tfidf_transformer = TfidfTransformer()\n",
        "imdb_train_tfidf = tfidf_transformer.fit_transform(imdb_train_x)\n",
        "imdb_test_tfidf = tfidf_transformer.transform(imdb_test_x)\n",
        "\n",
        "model = LinearRegression()\n",
        "predict= model.fit(imdb_train_tfidf, imdb_train_rate).predict(imdb_test_tfidf)\n",
        "predict = [round(i)for i in predict]\n",
        "# Since the rates in the data set are all integers, to be real, we round the predicted number"
      ],
      "execution_count": null,
      "outputs": []
    },
    {
      "cell_type": "code",
      "metadata": {
        "colab": {
          "base_uri": "https://localhost:8080/"
        },
        "id": "5y9rHI37oOte",
        "outputId": "34ac8b2d-1ae5-48ae-c085-a2b2157763d4"
      },
      "source": [
        "print('Coefficients: \\n', model.coef_)\n",
        "# The mean squared error\n",
        "print('Mean squared error: %.2f'\n",
        "      % mean_squared_error(imdb_test_rate, predict))\n",
        "# The coefficient of determination: 1 is perfect prediction\n",
        "print('Coefficient of determination: %.2f'\n",
        "      % r2_score(imdb_test_rate, predict))"
      ],
      "execution_count": null,
      "outputs": [
        {
          "output_type": "stream",
          "text": [
            "Coefficients: \n",
            " [ 0.1942114  -0.61574519  3.77120708 ...  0.88913867 -4.63576713\n",
            "  3.59242164]\n",
            "Mean squared error: 2.18\n",
            "Coefficient of determination: -7.73\n"
          ],
          "name": "stdout"
        }
      ]
    }
  ]
}