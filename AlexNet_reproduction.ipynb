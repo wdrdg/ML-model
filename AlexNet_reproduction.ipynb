{
  "nbformat": 4,
  "nbformat_minor": 0,
  "metadata": {
    "accelerator": "GPU",
    "colab": {
      "name": "AlexNet.ipynb",
      "provenance": [],
      "include_colab_link": true
    },
    "kernelspec": {
      "display_name": "Python 3",
      "name": "python3"
    },
    "language_info": {
      "name": "python"
    }
  },
  "cells": [
    {
      "cell_type": "markdown",
      "metadata": {
        "id": "view-in-github",
        "colab_type": "text"
      },
      "source": [
        "<a href=\"https://colab.research.google.com/github/wdrdg/ML-model/blob/main/AlexNet_reproduction.ipynb\" target=\"_parent\"><img src=\"https://colab.research.google.com/assets/colab-badge.svg\" alt=\"Open In Colab\"/></a>"
      ]
    },
    {
      "cell_type": "markdown",
      "metadata": {
        "id": "kXb0qEMzhVBw"
      },
      "source": [
        "# Import & Definition of our most effective model"
      ]
    },
    {
      "cell_type": "code",
      "metadata": {
        "id": "4IcZ48k8YGCi"
      },
      "source": [
        "import keras\n",
        "import numpy as np\n",
        "from keras.datasets import cifar10\n",
        "from keras import backend as K\n",
        "from keras.layers import Input, Conv2D, GlobalAveragePooling2D, Dense, Activation, MaxPooling2D\n",
        "from keras.models import Model\n",
        "from keras.layers import BatchNormalization as normalization\n",
        "from keras.layers import concatenate,Dropout,Flatten\n",
        "\n",
        "from keras import optimizers,regularizers\n",
        "from keras.preprocessing.image import ImageDataGenerator\n",
        "from keras.initializers import he_normal\n",
        "from keras.callbacks import LearningRateScheduler, TensorBoard, ModelCheckpoint\n",
        "from keras.layers import LeakyReLU\n",
        "\n",
        "num_classes        = 10         #分成多少类\n",
        "batch_size         = 64         # 一个batch用64张图\n",
        "iterations         = 782        #一个epoch用782个batch\n",
        "epochs             = 50        #一共循环300个epoch        changed to 50 for now 0423\n",
        "DROPOUT=0.5                     # 每个神经元以50%的概率失效\n",
        "CONCAT_AXIS=3\n",
        "weight_decay=1e-4\n",
        "DATA_FORMAT='channels_last'     # Theano:'channels_first'  Tensorflow:'channels_last'\n",
        "log_filepath  = './alexnet'     #tensorbroad的文件储存的路径"
      ],
      "execution_count": null,
      "outputs": []
    },
    {
      "cell_type": "code",
      "metadata": {
        "colab": {
          "base_uri": "https://localhost:8080/"
        },
        "id": "HIgtE3nSaKgH",
        "outputId": "01dcac0e-aa51-4f08-cb0c-7d258244057e"
      },
      "source": [
        "def color_preprocessing(x_train,x_test):\n",
        "    x_train = x_train.astype('float32')\n",
        "    x_test = x_test.astype('float32')\n",
        "    mean = [125.307, 122.95, 113.865]\n",
        "    std  = [62.9932, 62.0887, 66.7048]\n",
        "    for i in range(3):\n",
        "        x_train[:,:,:,i] = (x_train[:,:,:,i] - mean[i]) / std[i]\n",
        "        x_test[:,:,:,i] = (x_test[:,:,:,i] - mean[i]) / std[i]\n",
        "    return x_train, x_test\n",
        "\n",
        "def scheduler(epoch):\n",
        "    if epoch < 100:\n",
        "        return 0.01\n",
        "    if epoch < 200:\n",
        "        return 0.001\n",
        "    return 0.0001\n",
        "\n",
        "# load data\n",
        "(x_train, y_train), (x_test, y_test) = cifar10.load_data()\n",
        "y_train = keras.utils.to_categorical(y_train, num_classes)\n",
        "y_test  = keras.utils.to_categorical(y_test, num_classes)\n",
        "x_train, x_test = color_preprocessing(x_train, x_test)"
      ],
      "execution_count": null,
      "outputs": [
        {
          "output_type": "stream",
          "text": [
            "Downloading data from https://www.cs.toronto.edu/~kriz/cifar-10-python.tar.gz\n",
            "170500096/170498071 [==============================] - 4s 0us/step\n"
          ],
          "name": "stdout"
        }
      ]
    },
    {
      "cell_type": "code",
      "metadata": {
        "id": "SDS5yaOHcIyG"
      },
      "source": [
        "def alexnet(img_input,activation_func,is_normalized,has_overlap_pool,has_dropout,struct=[1,1,1,1,1], classes=10):\n",
        "    #struct defines the structure of alexnet; the ith element being '1' indicates that the ith convolutional layer is present\n",
        "    x = img_input\n",
        "    if struct[0]==1:\n",
        "      x = Conv2D(96,(11,11),strides=(4,4),padding='same',\n",
        "                activation=activation_func,kernel_initializer='uniform')(x)# valid\n",
        "      if is_normalized : \n",
        "        x = normalization()(x)   #added normalization\n",
        "      if has_overlap_pool:\n",
        "        x = MaxPooling2D(pool_size=(3,3),strides=(2,2),padding='same',data_format=DATA_FORMAT)(x)\n",
        "      else:\n",
        "        x = MaxPooling2D(pool_size=(2,2),strides=(2,2),padding='same',data_format=DATA_FORMAT)(x)\n",
        "\n",
        "    if struct[1]==1:\n",
        "      x = Conv2D(256,(5,5),strides=(1,1),padding='same',\n",
        "                activation=activation_func,kernel_initializer='uniform')(x)\n",
        "      if is_normalized : x = normalization()(x)   #added normalization\n",
        "      if has_overlap_pool:\n",
        "        x = MaxPooling2D(pool_size=(3,3),strides=(2,2),padding='same',data_format=DATA_FORMAT)(x)\n",
        "      else:\n",
        "        x = MaxPooling2D(pool_size=(2,2),strides=(2,2),padding='same',data_format=DATA_FORMAT)(x)\n",
        "\n",
        "    if struct[2]==1:\n",
        "      x = Conv2D(384,(3,3),strides=(1,1),padding='same',\n",
        "                activation=activation_func,kernel_initializer='uniform')(x) \n",
        "      if is_normalized : x = normalization()(x)   #added normalization\n",
        "\n",
        "\n",
        "    if struct[3]==1:\n",
        "      x = Conv2D(384,(3,3),strides=(1,1),padding='same',\n",
        "                activation=activation_func,kernel_initializer='uniform')(x) \n",
        "      if is_normalized : x = normalization()(x)   #added normalization\n",
        "\n",
        "    if struct[4]==1:\n",
        "      x = Conv2D(256,(3,3),strides=(1,1),padding='same',\n",
        "                activation=activation_func,kernel_initializer='uniform')(x)\n",
        "      if is_normalized : x = normalization()(x)   #added normalization\n",
        "      if has_overlap_pool: \n",
        "        x = MaxPooling2D(pool_size=(3,3),strides=(2,2),padding='same',data_format=DATA_FORMAT)(x)\n",
        "      else:\n",
        "        x = MaxPooling2D(pool_size=(2,2),strides=(2,2),padding='same',data_format=DATA_FORMAT)(x)\n",
        "    \n",
        "\n",
        "    x = Flatten()(x)\n",
        "    x = Dense(4096,activation=activation_func)(x)\n",
        "    if has_dropout: x = Dropout(0.5)(x)\n",
        "    x = Dense(4096,activation=activation_func)(x)\n",
        "    if has_dropout: x = Dropout(0.5)(x)\n",
        "    out = Dense(classes, activation='softmax')(x)\n",
        "    return out"
      ],
      "execution_count": null,
      "outputs": []
    },
    {
      "cell_type": "code",
      "metadata": {
        "colab": {
          "base_uri": "https://localhost:8080/"
        },
        "id": "YtxYtbNJcMXk",
        "outputId": "91bcd84f-e61d-478b-fdfe-7079951b015d"
      },
      "source": [
        "img_input=Input(shape=(32,32,3))\n",
        "output = alexnet(img_input,'relu',True,True,True)\n",
        "model=Model(img_input,output)\n",
        "model.summary()"
      ],
      "execution_count": null,
      "outputs": [
        {
          "output_type": "stream",
          "text": [
            "Model: \"model_1\"\n",
            "_________________________________________________________________\n",
            "Layer (type)                 Output Shape              Param #   \n",
            "=================================================================\n",
            "input_2 (InputLayer)         [(None, 32, 32, 3)]       0         \n",
            "_________________________________________________________________\n",
            "conv2d_5 (Conv2D)            (None, 8, 8, 96)          34944     \n",
            "_________________________________________________________________\n",
            "batch_normalization_5 (Batch (None, 8, 8, 96)          384       \n",
            "_________________________________________________________________\n",
            "max_pooling2d_3 (MaxPooling2 (None, 4, 4, 96)          0         \n",
            "_________________________________________________________________\n",
            "conv2d_6 (Conv2D)            (None, 4, 4, 256)         614656    \n",
            "_________________________________________________________________\n",
            "batch_normalization_6 (Batch (None, 4, 4, 256)         1024      \n",
            "_________________________________________________________________\n",
            "max_pooling2d_4 (MaxPooling2 (None, 2, 2, 256)         0         \n",
            "_________________________________________________________________\n",
            "conv2d_7 (Conv2D)            (None, 2, 2, 384)         885120    \n",
            "_________________________________________________________________\n",
            "batch_normalization_7 (Batch (None, 2, 2, 384)         1536      \n",
            "_________________________________________________________________\n",
            "conv2d_8 (Conv2D)            (None, 2, 2, 384)         1327488   \n",
            "_________________________________________________________________\n",
            "batch_normalization_8 (Batch (None, 2, 2, 384)         1536      \n",
            "_________________________________________________________________\n",
            "conv2d_9 (Conv2D)            (None, 2, 2, 256)         884992    \n",
            "_________________________________________________________________\n",
            "batch_normalization_9 (Batch (None, 2, 2, 256)         1024      \n",
            "_________________________________________________________________\n",
            "max_pooling2d_5 (MaxPooling2 (None, 1, 1, 256)         0         \n",
            "_________________________________________________________________\n",
            "flatten_1 (Flatten)          (None, 256)               0         \n",
            "_________________________________________________________________\n",
            "dense_3 (Dense)              (None, 4096)              1052672   \n",
            "_________________________________________________________________\n",
            "dropout_2 (Dropout)          (None, 4096)              0         \n",
            "_________________________________________________________________\n",
            "dense_4 (Dense)              (None, 4096)              16781312  \n",
            "_________________________________________________________________\n",
            "dropout_3 (Dropout)          (None, 4096)              0         \n",
            "_________________________________________________________________\n",
            "dense_5 (Dense)              (None, 10)                40970     \n",
            "=================================================================\n",
            "Total params: 21,627,658\n",
            "Trainable params: 21,624,906\n",
            "Non-trainable params: 2,752\n",
            "_________________________________________________________________\n"
          ],
          "name": "stdout"
        }
      ]
    },
    {
      "cell_type": "markdown",
      "metadata": {
        "id": "oZwkrdFjhtDi"
      },
      "source": [
        "# Training our best model"
      ]
    },
    {
      "cell_type": "code",
      "metadata": {
        "id": "vmdYIYGP3_tn"
      },
      "source": [
        "sgd = optimizers.SGD(lr=.1, momentum=0.9, nesterov=True)\n",
        "model.compile(loss='categorical_crossentropy', optimizer=sgd, metrics=['accuracy'])\n",
        "\n",
        "# set callback\n",
        "tb_cb = TensorBoard(log_dir=log_filepath, histogram_freq=0)\n",
        "change_lr = LearningRateScheduler(scheduler)\n",
        "cbks = [change_lr,tb_cb]\n",
        "\n",
        "# set data augmentation\n",
        "datagen = ImageDataGenerator(horizontal_flip=True,\n",
        "                             width_shift_range=0.125,\n",
        "                             height_shift_range=0.125,\n",
        "                             fill_mode='constant',cval=0.)\n",
        "\n",
        "#horizontal_flip=True Randomly flip inputs horizontally. 随机翻转\n",
        "# width_shift_range=0.125 水平平移，相对总宽度的比例\n",
        "#height_shift_range=0.125 垂直平移，相对总高度的比例\n",
        "#fill_mode='constant',cval=0 'constant': kkkkkkkk|abcd|kkkkkkkk (cval=k) 平移完用0来填充\n",
        "datagen.fit(x_train)"
      ],
      "execution_count": null,
      "outputs": []
    },
    {
      "cell_type": "code",
      "metadata": {
        "colab": {
          "background_save": true,
          "base_uri": "https://localhost:8080/"
        },
        "id": "YtMSdsK6cfgJ",
        "outputId": "23bfbb08-8ca0-4bb4-ebff-4613750852cb"
      },
      "source": [
        "sgd = optimizers.SGD(lr=.1, momentum=0.9, nesterov=True)\n",
        "model.compile(loss='categorical_crossentropy', optimizer=sgd, metrics=['accuracy'])\n",
        "\n",
        "# set callback\n",
        "tb_cb = TensorBoard(log_dir=log_filepath, histogram_freq=0)\n",
        "change_lr = LearningRateScheduler(scheduler)\n",
        "cbks = [change_lr,tb_cb]\n",
        "\n",
        "# set data augmentation\n",
        "datagen = ImageDataGenerator(horizontal_flip=True,\n",
        "                             width_shift_range=0.125,\n",
        "                             height_shift_range=0.125,\n",
        "                             fill_mode='constant',cval=0.)\n",
        "\n",
        "#horizontal_flip=True Randomly flip inputs horizontally. 随机翻转\n",
        "# width_shift_range=0.125 水平平移，相对总宽度的比例\n",
        "#height_shift_range=0.125 垂直平移，相对总高度的比例\n",
        "#fill_mode='constant',cval=0 'constant': kkkkkkkk|abcd|kkkkkkkk (cval=k) 平移完用0来填充\n",
        "datagen.fit(x_train)\n",
        "\n",
        "# start training\n",
        "history = model.fit_generator(datagen.flow(x_train, y_train,batch_size=batch_size),\n",
        "                    steps_per_epoch=iterations,\n",
        "                    epochs=epochs,\n",
        "                    callbacks=cbks,\n",
        "                    validation_data=(x_test, y_test))\n",
        "model.save('alexnet.h5')"
      ],
      "execution_count": null,
      "outputs": [
        {
          "output_type": "stream",
          "text": [
            "/usr/local/lib/python3.7/dist-packages/tensorflow/python/keras/engine/training.py:1844: UserWarning: `Model.fit_generator` is deprecated and will be removed in a future version. Please use `Model.fit`, which supports generators.\n",
            "  warnings.warn('`Model.fit_generator` is deprecated and '\n"
          ],
          "name": "stderr"
        },
        {
          "output_type": "stream",
          "text": [
            "Epoch 1/50\n",
            "782/782 [==============================] - 59s 33ms/step - loss: 1.8794 - accuracy: 0.3201 - val_loss: 1.3808 - val_accuracy: 0.4997\n",
            "Epoch 2/50\n",
            "782/782 [==============================] - 25s 32ms/step - loss: 1.4182 - accuracy: 0.4898 - val_loss: 1.2620 - val_accuracy: 0.5478\n",
            "Epoch 3/50\n",
            "782/782 [==============================] - 25s 32ms/step - loss: 1.2779 - accuracy: 0.5411 - val_loss: 1.1426 - val_accuracy: 0.5992\n",
            "Epoch 4/50\n",
            "782/782 [==============================] - 25s 32ms/step - loss: 1.1862 - accuracy: 0.5763 - val_loss: 1.1079 - val_accuracy: 0.6084\n",
            "Epoch 5/50\n",
            "782/782 [==============================] - 25s 31ms/step - loss: 1.1214 - accuracy: 0.6042 - val_loss: 1.0277 - val_accuracy: 0.6437\n",
            "Epoch 6/50\n",
            "782/782 [==============================] - 25s 32ms/step - loss: 1.0559 - accuracy: 0.6263 - val_loss: 1.0694 - val_accuracy: 0.6240\n",
            "Epoch 7/50\n",
            "782/782 [==============================] - 25s 32ms/step - loss: 1.0205 - accuracy: 0.6415 - val_loss: 0.9816 - val_accuracy: 0.6520\n",
            "Epoch 8/50\n",
            "782/782 [==============================] - 25s 32ms/step - loss: 0.9871 - accuracy: 0.6530 - val_loss: 0.9238 - val_accuracy: 0.6760\n",
            "Epoch 9/50\n",
            "782/782 [==============================] - 25s 32ms/step - loss: 0.9575 - accuracy: 0.6621 - val_loss: 0.9177 - val_accuracy: 0.6772\n",
            "Epoch 10/50\n",
            "782/782 [==============================] - 25s 32ms/step - loss: 0.9214 - accuracy: 0.6769 - val_loss: 0.9528 - val_accuracy: 0.6640\n",
            "Epoch 11/50\n",
            "782/782 [==============================] - 25s 32ms/step - loss: 0.8962 - accuracy: 0.6839 - val_loss: 0.8793 - val_accuracy: 0.6990\n",
            "Epoch 12/50\n",
            "782/782 [==============================] - 25s 32ms/step - loss: 0.8705 - accuracy: 0.6945 - val_loss: 0.8889 - val_accuracy: 0.6864\n",
            "Epoch 13/50\n",
            "782/782 [==============================] - 25s 32ms/step - loss: 0.8304 - accuracy: 0.7093 - val_loss: 0.8427 - val_accuracy: 0.7147\n",
            "Epoch 14/50\n",
            "782/782 [==============================] - 25s 32ms/step - loss: 0.8032 - accuracy: 0.7189 - val_loss: 0.8916 - val_accuracy: 0.6922\n",
            "Epoch 15/50\n",
            "782/782 [==============================] - 25s 32ms/step - loss: 0.7950 - accuracy: 0.7224 - val_loss: 0.8929 - val_accuracy: 0.6898\n",
            "Epoch 16/50\n",
            "782/782 [==============================] - 25s 32ms/step - loss: 0.7741 - accuracy: 0.7333 - val_loss: 0.8635 - val_accuracy: 0.6944\n",
            "Epoch 17/50\n",
            "782/782 [==============================] - 25s 32ms/step - loss: 0.7495 - accuracy: 0.7374 - val_loss: 0.8487 - val_accuracy: 0.6986\n",
            "Epoch 18/50\n",
            "782/782 [==============================] - 25s 32ms/step - loss: 0.7362 - accuracy: 0.7402 - val_loss: 0.8292 - val_accuracy: 0.7141\n",
            "Epoch 19/50\n",
            "782/782 [==============================] - 25s 32ms/step - loss: 0.7114 - accuracy: 0.7481 - val_loss: 0.7997 - val_accuracy: 0.7217\n",
            "Epoch 20/50\n",
            "782/782 [==============================] - 25s 32ms/step - loss: 0.6960 - accuracy: 0.7557 - val_loss: 0.7951 - val_accuracy: 0.7223\n",
            "Epoch 21/50\n",
            "782/782 [==============================] - 25s 32ms/step - loss: 0.6838 - accuracy: 0.7578 - val_loss: 0.8082 - val_accuracy: 0.7236\n",
            "Epoch 22/50\n",
            "782/782 [==============================] - 25s 32ms/step - loss: 0.6613 - accuracy: 0.7692 - val_loss: 0.8036 - val_accuracy: 0.7228\n",
            "Epoch 23/50\n",
            "782/782 [==============================] - 25s 32ms/step - loss: 0.6483 - accuracy: 0.7715 - val_loss: 0.7826 - val_accuracy: 0.7317\n",
            "Epoch 24/50\n",
            "782/782 [==============================] - 25s 32ms/step - loss: 0.6347 - accuracy: 0.7765 - val_loss: 0.7791 - val_accuracy: 0.7331\n",
            "Epoch 25/50\n",
            "782/782 [==============================] - 25s 32ms/step - loss: 0.6164 - accuracy: 0.7844 - val_loss: 0.7863 - val_accuracy: 0.7326\n",
            "Epoch 26/50\n",
            "782/782 [==============================] - 25s 32ms/step - loss: 0.5983 - accuracy: 0.7908 - val_loss: 0.7998 - val_accuracy: 0.7284\n",
            "Epoch 27/50\n",
            "782/782 [==============================] - 25s 32ms/step - loss: 0.5904 - accuracy: 0.7931 - val_loss: 0.7635 - val_accuracy: 0.7393\n",
            "Epoch 28/50\n",
            "782/782 [==============================] - 25s 32ms/step - loss: 0.5754 - accuracy: 0.7965 - val_loss: 0.7558 - val_accuracy: 0.7442\n",
            "Epoch 29/50\n",
            "782/782 [==============================] - 25s 32ms/step - loss: 0.5611 - accuracy: 0.7997 - val_loss: 0.7744 - val_accuracy: 0.7416\n",
            "Epoch 30/50\n",
            "782/782 [==============================] - 25s 32ms/step - loss: 0.5454 - accuracy: 0.8075 - val_loss: 0.7693 - val_accuracy: 0.7403\n",
            "Epoch 31/50\n",
            "782/782 [==============================] - 25s 32ms/step - loss: 0.5263 - accuracy: 0.8138 - val_loss: 0.7901 - val_accuracy: 0.7399\n",
            "Epoch 32/50\n",
            "782/782 [==============================] - 25s 32ms/step - loss: 0.5275 - accuracy: 0.8119 - val_loss: 0.7766 - val_accuracy: 0.7427\n",
            "Epoch 33/50\n",
            "782/782 [==============================] - 25s 32ms/step - loss: 0.5106 - accuracy: 0.8182 - val_loss: 0.7689 - val_accuracy: 0.7421\n",
            "Epoch 34/50\n",
            "782/782 [==============================] - 25s 32ms/step - loss: 0.5019 - accuracy: 0.8240 - val_loss: 0.7716 - val_accuracy: 0.7401\n",
            "Epoch 35/50\n",
            "782/782 [==============================] - 25s 32ms/step - loss: 0.4716 - accuracy: 0.8319 - val_loss: 0.7806 - val_accuracy: 0.7430\n",
            "Epoch 36/50\n",
            "782/782 [==============================] - 25s 32ms/step - loss: 0.4698 - accuracy: 0.8327 - val_loss: 0.7716 - val_accuracy: 0.7449\n",
            "Epoch 37/50\n",
            "782/782 [==============================] - 25s 32ms/step - loss: 0.4702 - accuracy: 0.8335 - val_loss: 0.7793 - val_accuracy: 0.7448\n",
            "Epoch 38/50\n",
            "782/782 [==============================] - 25s 32ms/step - loss: 0.4560 - accuracy: 0.8367 - val_loss: 0.7690 - val_accuracy: 0.7498\n",
            "Epoch 39/50\n",
            "782/782 [==============================] - 25s 32ms/step - loss: 0.4352 - accuracy: 0.8469 - val_loss: 0.8104 - val_accuracy: 0.7416\n",
            "Epoch 40/50\n",
            "782/782 [==============================] - 25s 32ms/step - loss: 0.4273 - accuracy: 0.8469 - val_loss: 0.7957 - val_accuracy: 0.7391\n",
            "Epoch 41/50\n",
            "782/782 [==============================] - 25s 32ms/step - loss: 0.4087 - accuracy: 0.8525 - val_loss: 0.7762 - val_accuracy: 0.7500\n",
            "Epoch 42/50\n",
            "782/782 [==============================] - 25s 32ms/step - loss: 0.3958 - accuracy: 0.8591 - val_loss: 0.7928 - val_accuracy: 0.7434\n",
            "Epoch 43/50\n",
            "782/782 [==============================] - 25s 32ms/step - loss: 0.3892 - accuracy: 0.8577 - val_loss: 0.7967 - val_accuracy: 0.7481\n",
            "Epoch 44/50\n",
            "782/782 [==============================] - 25s 32ms/step - loss: 0.3836 - accuracy: 0.8655 - val_loss: 0.8157 - val_accuracy: 0.7475\n",
            "Epoch 45/50\n",
            "782/782 [==============================] - 25s 32ms/step - loss: 0.3759 - accuracy: 0.8660 - val_loss: 0.8262 - val_accuracy: 0.7438\n",
            "Epoch 46/50\n",
            "782/782 [==============================] - 25s 32ms/step - loss: 0.3656 - accuracy: 0.8705 - val_loss: 0.8011 - val_accuracy: 0.7468\n",
            "Epoch 47/50\n",
            "782/782 [==============================] - 25s 32ms/step - loss: 0.3562 - accuracy: 0.8729 - val_loss: 0.8117 - val_accuracy: 0.7517\n",
            "Epoch 48/50\n",
            "782/782 [==============================] - 25s 32ms/step - loss: 0.3473 - accuracy: 0.8737 - val_loss: 0.8307 - val_accuracy: 0.7450\n",
            "Epoch 49/50\n",
            "782/782 [==============================] - 25s 32ms/step - loss: 0.3292 - accuracy: 0.8831 - val_loss: 0.8428 - val_accuracy: 0.7460\n",
            "Epoch 50/50\n",
            "782/782 [==============================] - 25s 32ms/step - loss: 0.3310 - accuracy: 0.8810 - val_loss: 0.8379 - val_accuracy: 0.7439\n"
          ],
          "name": "stdout"
        }
      ]
    },
    {
      "cell_type": "code",
      "metadata": {
        "id": "G9hzbk5Jt8l1"
      },
      "source": [
        "# Visualize History for Loss.\n",
        "from matplotlib import pyplot as plt\n",
        "import numpy as np\n",
        "def err_from_acc(accs):\n",
        "  return [1.0-acc for acc in accs]\n",
        "\n",
        "print('The lowest error achieved on our model is: ' + str(np.min(err_from_acc(history.history['val_accuracy']))))"
      ],
      "execution_count": null,
      "outputs": []
    },
    {
      "cell_type": "markdown",
      "metadata": {
        "id": "0gCbdb57h2RJ"
      },
      "source": [
        "# Ablation Test"
      ]
    },
    {
      "cell_type": "code",
      "metadata": {
        "id": "QZx5kb93j9Bx"
      },
      "source": [
        "#Testing the accuracy drop from removing the first convolutional layer\n",
        "img_input=Input(shape=(32,32,3))\n",
        "output = alexnet(img_input,'relu',True,True,True,struct=[0,1,1,1,1])\n",
        "model=Model(img_input,output)\n",
        "model.compile(loss='categorical_crossentropy', optimizer=sgd, metrics=['accuracy'])\n",
        "history_rem1 = model.fit_generator(datagen.flow(x_train, y_train,batch_size=batch_size),\n",
        "                    steps_per_epoch=iterations,\n",
        "                    epochs=epochs,\n",
        "                    callbacks=cbks,\n",
        "                    validation_data=(x_test, y_test))\n",
        "#displaying the result\n",
        "print('Accuracy improvement in having_all_layers vs not_having_first is: ' + \n",
        "     str(100*np.min(err_from_acc(history_rem1.history['val_accuracy'])) - 100*np.min(err_from_acc(history.history['val_accuracy']))) \n",
        "     + ' percent' )"
      ],
      "execution_count": null,
      "outputs": []
    },
    {
      "cell_type": "code",
      "metadata": {
        "id": "oMQLQY_OS0EN"
      },
      "source": [
        "#Testing the accuracy drop from removing the second convolutional layer\n",
        "img_input=Input(shape=(32,32,3))\n",
        "output = alexnet(img_input,'relu',True,True,True,struct=[1,0,1,1,1])\n",
        "model=Model(img_input,output)\n",
        "model.compile(loss='categorical_crossentropy', optimizer=sgd, metrics=['accuracy'])\n",
        "history_rem2 = model.fit_generator(datagen.flow(x_train, y_train,batch_size=batch_size),\n",
        "                    steps_per_epoch=iterations,\n",
        "                    epochs=epochs,\n",
        "                    callbacks=cbks,\n",
        "                    validation_data=(x_test, y_test))\n",
        "#displaying the result\n",
        "print('Accuracy improvement in having_all_layers vs not_having_second is: ' + \n",
        "     str(100*np.min(err_from_acc(history_rem2.history['val_accuracy'])) - 100*np.min(err_from_acc(history.history['val_accuracy']))) \n",
        "     + ' percent' )"
      ],
      "execution_count": null,
      "outputs": []
    },
    {
      "cell_type": "code",
      "metadata": {
        "id": "l7mawWPSS09d"
      },
      "source": [
        "#Testing the accuracy drop from removing the third convolutional layer\n",
        "img_input=Input(shape=(32,32,3))\n",
        "output = alexnet(img_input,'relu',True,True,True,struct=[1,1,0,1,1])\n",
        "model=Model(img_input,output)\n",
        "model.compile(loss='categorical_crossentropy', optimizer=sgd, metrics=['accuracy'])\n",
        "history_rem3 = model.fit_generator(datagen.flow(x_train, y_train,batch_size=batch_size),\n",
        "                    steps_per_epoch=iterations,\n",
        "                    epochs=epochs,\n",
        "                    callbacks=cbks,\n",
        "                    validation_data=(x_test, y_test))\n",
        "#displaying the result\n",
        "print('Accuracy improvement in having_all_layers vs not_having_third is: ' + \n",
        "     str(100*np.min(err_from_acc(history_rem3.history['val_accuracy'])) - 100*np.min(err_from_acc(history.history['val_accuracy']))) \n",
        "     + ' percent' )"
      ],
      "execution_count": null,
      "outputs": []
    },
    {
      "cell_type": "code",
      "metadata": {
        "id": "_xIX4HN7S1TR"
      },
      "source": [
        "#Testing the accuracy drop from removing the fourth convolutional layer\n",
        "img_input=Input(shape=(32,32,3))\n",
        "output = alexnet(img_input,'relu',True,True,True,struct=[1,1,1,0,1])\n",
        "model=Model(img_input,output)\n",
        "model.compile(loss='categorical_crossentropy', optimizer=sgd, metrics=['accuracy'])\n",
        "history_rem4 = model.fit_generator(datagen.flow(x_train, y_train,batch_size=batch_size),\n",
        "                    steps_per_epoch=iterations,\n",
        "                    epochs=epochs,\n",
        "                    callbacks=cbks,\n",
        "                    validation_data=(x_test, y_test))\n",
        "#displaying the result\n",
        "print('Accuracy improvement in having_all_layers vs not_having_fourth is: ' + \n",
        "     str(100*np.min(err_from_acc(history_rem4.history['val_accuracy'])) - 100*np.min(err_from_acc(history.history['val_accuracy']))) \n",
        "     + ' percent' )"
      ],
      "execution_count": null,
      "outputs": []
    },
    {
      "cell_type": "code",
      "metadata": {
        "id": "IQ7eeetxS2Gm"
      },
      "source": [
        "#Testing the accuracy drop from removing the fifth convolutional layer\n",
        "img_input=Input(shape=(32,32,3))\n",
        "output = alexnet(img_input,'relu',True,True,True,struct=[1,1,1,1,0])\n",
        "model=Model(img_input,output)\n",
        "model.compile(loss='categorical_crossentropy', optimizer=sgd, metrics=['accuracy'])\n",
        "history_rem5 = model.fit_generator(datagen.flow(x_train, y_train,batch_size=batch_size),\n",
        "                    steps_per_epoch=iterations,\n",
        "                    epochs=epochs,\n",
        "                    callbacks=cbks,\n",
        "                    validation_data=(x_test, y_test))\n",
        "#displaying the result\n",
        "print('Accuracy improvement in having_all_layers vs not_having_fifth is: ' + \n",
        "     str(100*np.min(err_from_acc(history_rem5.history['val_accuracy'])) - 100*np.min(err_from_acc(history.history['val_accuracy']))) \n",
        "     + ' percent' )"
      ],
      "execution_count": null,
      "outputs": []
    },
    {
      "cell_type": "markdown",
      "metadata": {
        "id": "7jfdDF7sjz3x"
      },
      "source": [
        "# Reproducing the experiments in the AlexNet paper"
      ]
    },
    {
      "cell_type": "code",
      "metadata": {
        "colab": {
          "base_uri": "https://localhost:8080/",
          "height": 1000
        },
        "id": "KxpSIZkBiQnJ",
        "outputId": "5d90e282-2a16-42eb-cdb1-a8926f0b5f0d"
      },
      "source": [
        "#3.1 ReLU-activated CNN takes less time to reach 25% training error than CNNs with saturating non-linearity\n",
        "#First define Alexnet but with tanh activation function\n",
        "img_input=Input(shape=(32,32,3))\n",
        "output = alexnet(img_input,'tanh',True,True,True)   #Activation, lrn, Overlap, Dropout\n",
        "model=Model(img_input,output)\n",
        "model.compile(loss='categorical_crossentropy', optimizer=sgd, metrics=['accuracy'])\n",
        "history_tanh = model.fit_generator(datagen.flow(x_train, y_train,batch_size=batch_size),\n",
        "                    steps_per_epoch=iterations,\n",
        "                    epochs=epochs,\n",
        "                    callbacks=cbks,\n",
        "                    validation_data=(x_test, y_test))\n",
        "#displaying the result\n",
        "plt.title('training with relu vs. tanh')\n",
        "plt.plot(err_from_acc(history.history['val_accuracy']))\n",
        "plt.plot(err_from_acc(history_tanh.history['val_accuracy']))\n",
        "plt.ylabel('error')\n",
        "plt.xlabel('epoch')\n",
        "plt.legend(['relu', 'tanh'])\n",
        "plt.show()"
      ],
      "execution_count": null,
      "outputs": [
        {
          "output_type": "stream",
          "text": [
            "/usr/local/lib/python3.7/dist-packages/tensorflow/python/keras/engine/training.py:1844: UserWarning: `Model.fit_generator` is deprecated and will be removed in a future version. Please use `Model.fit`, which supports generators.\n",
            "  warnings.warn('`Model.fit_generator` is deprecated and '\n"
          ],
          "name": "stderr"
        },
        {
          "output_type": "stream",
          "text": [
            "Epoch 1/50\n",
            "782/782 [==============================] - 27s 33ms/step - loss: 2.2798 - accuracy: 0.2652 - val_loss: 1.6780 - val_accuracy: 0.4049\n",
            "Epoch 2/50\n",
            "782/782 [==============================] - 25s 32ms/step - loss: 1.6288 - accuracy: 0.3984 - val_loss: 1.6066 - val_accuracy: 0.4179\n",
            "Epoch 3/50\n",
            "782/782 [==============================] - 25s 32ms/step - loss: 1.5269 - accuracy: 0.4463 - val_loss: 1.4354 - val_accuracy: 0.4846\n",
            "Epoch 4/50\n",
            "782/782 [==============================] - 25s 32ms/step - loss: 1.4494 - accuracy: 0.4789 - val_loss: 1.4709 - val_accuracy: 0.4716\n",
            "Epoch 5/50\n",
            "782/782 [==============================] - 25s 32ms/step - loss: 1.3926 - accuracy: 0.4952 - val_loss: 1.2790 - val_accuracy: 0.5371\n",
            "Epoch 6/50\n",
            "782/782 [==============================] - 25s 32ms/step - loss: 1.3332 - accuracy: 0.5217 - val_loss: 1.3073 - val_accuracy: 0.5370\n",
            "Epoch 7/50\n",
            "782/782 [==============================] - 25s 32ms/step - loss: 1.3124 - accuracy: 0.5295 - val_loss: 1.2750 - val_accuracy: 0.5531\n",
            "Epoch 8/50\n",
            "782/782 [==============================] - 25s 32ms/step - loss: 1.2807 - accuracy: 0.5411 - val_loss: 1.2394 - val_accuracy: 0.5596\n",
            "Epoch 9/50\n",
            "782/782 [==============================] - 25s 32ms/step - loss: 1.2515 - accuracy: 0.5542 - val_loss: 1.2402 - val_accuracy: 0.5670\n",
            "Epoch 10/50\n",
            "782/782 [==============================] - 25s 32ms/step - loss: 1.2163 - accuracy: 0.5665 - val_loss: 1.1759 - val_accuracy: 0.5801\n",
            "Epoch 11/50\n",
            "782/782 [==============================] - 25s 32ms/step - loss: 1.1964 - accuracy: 0.5703 - val_loss: 1.1531 - val_accuracy: 0.5975\n",
            "Epoch 12/50\n",
            "782/782 [==============================] - 25s 32ms/step - loss: 1.1776 - accuracy: 0.5813 - val_loss: 1.1341 - val_accuracy: 0.6055\n",
            "Epoch 13/50\n",
            "782/782 [==============================] - 25s 31ms/step - loss: 1.1500 - accuracy: 0.5946 - val_loss: 1.1307 - val_accuracy: 0.6019\n",
            "Epoch 14/50\n",
            "782/782 [==============================] - 25s 32ms/step - loss: 1.1209 - accuracy: 0.6022 - val_loss: 1.1609 - val_accuracy: 0.5863\n",
            "Epoch 15/50\n",
            "782/782 [==============================] - 25s 32ms/step - loss: 1.1137 - accuracy: 0.6065 - val_loss: 1.0946 - val_accuracy: 0.6150\n",
            "Epoch 16/50\n",
            "782/782 [==============================] - 25s 32ms/step - loss: 1.0813 - accuracy: 0.6178 - val_loss: 1.1059 - val_accuracy: 0.6179\n",
            "Epoch 17/50\n",
            "782/782 [==============================] - 25s 32ms/step - loss: 1.0606 - accuracy: 0.6259 - val_loss: 1.0976 - val_accuracy: 0.6119\n",
            "Epoch 18/50\n",
            "782/782 [==============================] - 25s 32ms/step - loss: 1.0418 - accuracy: 0.6305 - val_loss: 1.0350 - val_accuracy: 0.6455\n",
            "Epoch 19/50\n",
            "782/782 [==============================] - 25s 32ms/step - loss: 1.0178 - accuracy: 0.6412 - val_loss: 1.0289 - val_accuracy: 0.6455\n",
            "Epoch 20/50\n",
            "782/782 [==============================] - 25s 32ms/step - loss: 1.0238 - accuracy: 0.6419 - val_loss: 1.0379 - val_accuracy: 0.6453\n",
            "Epoch 21/50\n",
            "782/782 [==============================] - 25s 32ms/step - loss: 0.9986 - accuracy: 0.6488 - val_loss: 0.9836 - val_accuracy: 0.6543\n",
            "Epoch 22/50\n",
            "782/782 [==============================] - 25s 32ms/step - loss: 0.9888 - accuracy: 0.6564 - val_loss: 0.9634 - val_accuracy: 0.6642\n",
            "Epoch 23/50\n",
            "782/782 [==============================] - 25s 32ms/step - loss: 0.9665 - accuracy: 0.6592 - val_loss: 0.9691 - val_accuracy: 0.6586\n",
            "Epoch 24/50\n",
            "782/782 [==============================] - 25s 32ms/step - loss: 0.9534 - accuracy: 0.6672 - val_loss: 0.9874 - val_accuracy: 0.6613\n",
            "Epoch 25/50\n",
            "782/782 [==============================] - 25s 32ms/step - loss: 0.9456 - accuracy: 0.6705 - val_loss: 1.0105 - val_accuracy: 0.6508\n",
            "Epoch 26/50\n",
            "782/782 [==============================] - 25s 32ms/step - loss: 0.9178 - accuracy: 0.6792 - val_loss: 0.9964 - val_accuracy: 0.6620\n",
            "Epoch 27/50\n",
            "782/782 [==============================] - 25s 32ms/step - loss: 0.9173 - accuracy: 0.6760 - val_loss: 0.9929 - val_accuracy: 0.6672\n",
            "Epoch 28/50\n",
            "782/782 [==============================] - 25s 32ms/step - loss: 0.9099 - accuracy: 0.6806 - val_loss: 0.9890 - val_accuracy: 0.6596\n",
            "Epoch 29/50\n",
            "782/782 [==============================] - 25s 32ms/step - loss: 0.9003 - accuracy: 0.6879 - val_loss: 0.9678 - val_accuracy: 0.6690\n",
            "Epoch 30/50\n",
            "782/782 [==============================] - 25s 32ms/step - loss: 0.8868 - accuracy: 0.6882 - val_loss: 0.9530 - val_accuracy: 0.6738\n",
            "Epoch 31/50\n",
            "782/782 [==============================] - 25s 32ms/step - loss: 0.8729 - accuracy: 0.6918 - val_loss: 0.9602 - val_accuracy: 0.6707\n",
            "Epoch 32/50\n",
            "782/782 [==============================] - 25s 32ms/step - loss: 0.8646 - accuracy: 0.6966 - val_loss: 0.9530 - val_accuracy: 0.6725\n",
            "Epoch 33/50\n",
            "782/782 [==============================] - 25s 32ms/step - loss: 0.8593 - accuracy: 0.6985 - val_loss: 0.9575 - val_accuracy: 0.6751\n",
            "Epoch 34/50\n",
            "782/782 [==============================] - 25s 32ms/step - loss: 0.8452 - accuracy: 0.7013 - val_loss: 0.9241 - val_accuracy: 0.6807\n",
            "Epoch 35/50\n",
            "782/782 [==============================] - 25s 32ms/step - loss: 0.8322 - accuracy: 0.7083 - val_loss: 0.9690 - val_accuracy: 0.6709\n",
            "Epoch 36/50\n",
            "782/782 [==============================] - 25s 32ms/step - loss: 0.8386 - accuracy: 0.7076 - val_loss: 0.9211 - val_accuracy: 0.6840\n",
            "Epoch 37/50\n",
            "782/782 [==============================] - 25s 32ms/step - loss: 0.8182 - accuracy: 0.7140 - val_loss: 0.9031 - val_accuracy: 0.6832\n",
            "Epoch 38/50\n",
            "782/782 [==============================] - 25s 32ms/step - loss: 0.8098 - accuracy: 0.7147 - val_loss: 0.8867 - val_accuracy: 0.6912\n",
            "Epoch 39/50\n",
            "782/782 [==============================] - 25s 32ms/step - loss: 0.7958 - accuracy: 0.7233 - val_loss: 0.8740 - val_accuracy: 0.7003\n",
            "Epoch 40/50\n",
            "782/782 [==============================] - 25s 32ms/step - loss: 0.7948 - accuracy: 0.7249 - val_loss: 0.8845 - val_accuracy: 0.6969\n",
            "Epoch 41/50\n",
            "782/782 [==============================] - 26s 33ms/step - loss: 0.7950 - accuracy: 0.7220 - val_loss: 0.9111 - val_accuracy: 0.6843\n",
            "Epoch 42/50\n",
            "782/782 [==============================] - 25s 32ms/step - loss: 0.7788 - accuracy: 0.7274 - val_loss: 0.9348 - val_accuracy: 0.6788\n",
            "Epoch 43/50\n",
            "782/782 [==============================] - 25s 32ms/step - loss: 0.7749 - accuracy: 0.7288 - val_loss: 0.9283 - val_accuracy: 0.6826\n",
            "Epoch 44/50\n",
            "782/782 [==============================] - 25s 32ms/step - loss: 0.7638 - accuracy: 0.7321 - val_loss: 0.9035 - val_accuracy: 0.6895\n",
            "Epoch 45/50\n",
            "782/782 [==============================] - 25s 32ms/step - loss: 0.7522 - accuracy: 0.7330 - val_loss: 0.9261 - val_accuracy: 0.6859\n",
            "Epoch 46/50\n",
            "782/782 [==============================] - 25s 32ms/step - loss: 0.7438 - accuracy: 0.7428 - val_loss: 0.9647 - val_accuracy: 0.6790\n",
            "Epoch 47/50\n",
            "782/782 [==============================] - 25s 32ms/step - loss: 0.7364 - accuracy: 0.7435 - val_loss: 0.8900 - val_accuracy: 0.6970\n",
            "Epoch 48/50\n",
            "782/782 [==============================] - 25s 32ms/step - loss: 0.7255 - accuracy: 0.7451 - val_loss: 0.9060 - val_accuracy: 0.6974\n",
            "Epoch 49/50\n",
            "782/782 [==============================] - 25s 32ms/step - loss: 0.7241 - accuracy: 0.7454 - val_loss: 0.8758 - val_accuracy: 0.7066\n",
            "Epoch 50/50\n",
            "782/782 [==============================] - 25s 32ms/step - loss: 0.7168 - accuracy: 0.7492 - val_loss: 0.8861 - val_accuracy: 0.6966\n"
          ],
          "name": "stdout"
        },
        {
          "output_type": "display_data",
          "data": {
            "image/png": "[encoded data removed]",
            "text/plain": [
              "<Figure size 432x288 with 1 Axes>"
            ]
          },
          "metadata": {
            "tags": []
          }
        }
      ]
    },
    {
      "cell_type": "code",
      "metadata": {
        "id": "90iCNsImuztS"
      },
      "source": [
        "#3.2 accuracy improvement after adding Local Reponse Normalization\n",
        "#build a model with every setting being the same but LRN removed\n",
        "img_input=Input(shape=(32,32,3))\n",
        "output = alexnet(img_input,'relu',False,True,True)\n",
        "model=Model(img_input,output)\n",
        "model.compile(loss='categorical_crossentropy', optimizer=sgd, metrics=['accuracy'])\n",
        "history_lrn = model.fit_generator(datagen.flow(x_train, y_train,batch_size=batch_size),\n",
        "                    steps_per_epoch=iterations,\n",
        "                    epochs=epochs,\n",
        "                    callbacks=cbks,\n",
        "                    validation_data=(x_test, y_test))\n",
        "#displaying the result for 3.2\n",
        "print('Accuracy improvement in having_lrn vs not_having_lrn is: ' + \n",
        "     str(100*np.min(err_from_acc(history_lrn.history['val_accuracy'])) - 100*np.min(err_from_acc(history.history['val_accuracy']))) \n",
        "     + ' percent' )"
      ],
      "execution_count": null,
      "outputs": []
    },
    {
      "cell_type": "code",
      "metadata": {
        "id": "xBCpUvuixYfS"
      },
      "source": [
        "#3.3 accuracy improvement for having overlapping pooling\n",
        "#build a model with every setting being the same but NO overlapping pooling\n",
        "img_input=Input(shape=(32,32,3))\n",
        "output = alexnet(img_input,'relu',True,False,True)\n",
        "model=Model(img_input,output)\n",
        "model.compile(loss='categorical_crossentropy', optimizer=sgd, metrics=['accuracy'])\n",
        "hisotry_overlap = model.fit_generator(datagen.flow(x_train, y_train,batch_size=batch_size),\n",
        "                    steps_per_epoch=iterations,\n",
        "                    epochs=epochs,\n",
        "                    callbacks=cbks,\n",
        "                    validation_data=(x_test, y_test))\n",
        "#displaying the result\n",
        "print('Accuracy improvement in having_overlap vs not_having_overlap is: ' + \n",
        "     str(100*np.min(err_from_acc(hisotry_overlap.history['val_accuracy'])) - 100*np.min(err_from_acc(history.history['val_accuracy']))) \n",
        "     + ' percent' )"
      ],
      "execution_count": null,
      "outputs": []
    },
    {
      "cell_type": "code",
      "metadata": {
        "id": "4NREMJDg3gQS"
      },
      "source": [
        "#4.1 data augmentation vs no data augmentation\n",
        "#build a model with every setting being the same but trained with NO data augmentation\n",
        "img_input=Input(shape=(32,32,3))\n",
        "output = alexnet(img_input,'relu',True,True,True)\n",
        "model=Model(img_input,output)\n",
        "model.compile(loss='categorical_crossentropy', optimizer=sgd, metrics=['accuracy'])\n",
        "history_augmentation = model.fit(\n",
        "    x_train,\n",
        "    y_train,\n",
        "    batch_size=batch_size,\n",
        "    steps_per_epoch=iterations,\n",
        "    epochs=epochs,\n",
        "    # We pass some validation for\n",
        "    # monitoring validation loss and metrics\n",
        "    # at the end of each epoch\n",
        "    callbacks=cbks,\n",
        "    validation_data=(x_test, y_test),\n",
        ")\n",
        "#displaying the result\n",
        "print('Accuracy improvement in having_augmentation vs not_having_augmentation is: ' + \n",
        "     str(100*np.min(err_from_acc(history_augmentation.history['val_accuracy'])) - 100*np.min(err_from_acc(history.history['val_accuracy']))) \n",
        "     + ' percent' )"
      ],
      "execution_count": null,
      "outputs": []
    },
    {
      "cell_type": "code",
      "metadata": {
        "id": "5GnjqMUN3rZG"
      },
      "source": [
        "#4.2 dropout vs no dropout\n",
        "#build a model with every setting being the same but NO dropout\n",
        "img_input=Input(shape=(32,32,3))\n",
        "output = alexnet(img_input,'relu',True,True,False)\n",
        "model=Model(img_input,output)\n",
        "model.compile(loss='categorical_crossentropy', optimizer=sgd, metrics=['accuracy'])\n",
        "hisotry_dropout = model.fit_generator(datagen.flow(x_train, y_train,batch_size=batch_size),\n",
        "                    steps_per_epoch=iterations,\n",
        "                    epochs=epochs,\n",
        "                    callbacks=cbks,\n",
        "                    validation_data=(x_test, y_test))\n",
        "#displaying the result\n",
        "print('Accuracy improvement in having_dropout vs not_having_dropout is: ' + \n",
        "     str(100*np.min(err_from_acc(hisotry_dropout.history['val_accuracy'])) - 100*np.min(err_from_acc(history.history['val_accuracy']))) \n",
        "     + ' percent' )"
      ],
      "execution_count": null,
      "outputs": []
    },
    {
      "cell_type": "code",
      "metadata": {
        "id": "3DDxDXk48lP0"
      },
      "source": [
        "# leaky relu vs relu\n",
        "# build a model with every setting being the same but using leaky relu as activation\n",
        "img_input=Input(shape=(32,32,3))\n",
        "output = alexnet(img_input,LeakyReLU(),True,True,False)\n",
        "model=Model(img_input,output)\n",
        "model.compile(loss='categorical_crossentropy', optimizer=sgd, metrics=['accuracy'])\n",
        "hisotry_dropout = model.fit_generator(datagen.flow(x_train, y_train,batch_size=batch_size),\n",
        "                    steps_per_epoch=iterations,\n",
        "                    epochs=epochs,\n",
        "                    callbacks=cbks,\n",
        "                    validation_data=(x_test, y_test))\n",
        "#displaying the result\n",
        "print('Accuracy improvement in having_dropout vs not_having_dropout is: ' + \n",
        "     str(100*np.min(err_from_acc(hisotry_dropout.history['val_accuracy'])) - 100*np.min(err_from_acc(history.history['val_accuracy']))) \n",
        "     + ' percent' )"
      ],
      "execution_count": null,
      "outputs": []
    }
  ]
}